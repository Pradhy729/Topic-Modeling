{
 "cells": [
  {
   "cell_type": "code",
   "execution_count": 1,
   "metadata": {},
   "outputs": [],
   "source": [
    "import numpy as np\n",
    "import pandas as pd\n",
    "\n",
    "import matplotlib.pyplot as plt\n",
    "import seaborn as sns\n",
    "\n",
    "plt.style.use('fivethirtyeight')\n",
    "import re"
   ]
  },
  {
   "cell_type": "code",
   "execution_count": 2,
   "metadata": {},
   "outputs": [],
   "source": [
    "df = pd.read_csv('climate_tweets.csv')"
   ]
  },
  {
   "cell_type": "code",
   "execution_count": 3,
   "metadata": {},
   "outputs": [
    {
     "data": {
      "text/plain": [
       "(6090, 1)"
      ]
     },
     "execution_count": 3,
     "metadata": {},
     "output_type": "execute_result"
    }
   ],
   "source": [
    "df.shape"
   ]
  },
  {
   "cell_type": "code",
   "execution_count": 4,
   "metadata": {},
   "outputs": [
    {
     "data": {
      "text/html": [
       "<div>\n",
       "<style scoped>\n",
       "    .dataframe tbody tr th:only-of-type {\n",
       "        vertical-align: middle;\n",
       "    }\n",
       "\n",
       "    .dataframe tbody tr th {\n",
       "        vertical-align: top;\n",
       "    }\n",
       "\n",
       "    .dataframe thead th {\n",
       "        text-align: right;\n",
       "    }\n",
       "</style>\n",
       "<table border=\"1\" class=\"dataframe\">\n",
       "  <thead>\n",
       "    <tr style=\"text-align: right;\">\n",
       "      <th></th>\n",
       "      <th>tweet</th>\n",
       "    </tr>\n",
       "  </thead>\n",
       "  <tbody>\n",
       "    <tr>\n",
       "      <th>0</th>\n",
       "      <td>Global warming report urges governments to act...</td>\n",
       "    </tr>\n",
       "    <tr>\n",
       "      <th>1</th>\n",
       "      <td>Fighting poverty and global warming in Africa ...</td>\n",
       "    </tr>\n",
       "    <tr>\n",
       "      <th>2</th>\n",
       "      <td>Carbon offsets: How a Vatican forest failed to...</td>\n",
       "    </tr>\n",
       "    <tr>\n",
       "      <th>3</th>\n",
       "      <td>Carbon offsets: How a Vatican forest failed to...</td>\n",
       "    </tr>\n",
       "    <tr>\n",
       "      <th>4</th>\n",
       "      <td>URUGUAY: Tools Needed for Those Most Vulnerabl...</td>\n",
       "    </tr>\n",
       "  </tbody>\n",
       "</table>\n",
       "</div>"
      ],
      "text/plain": [
       "                                               tweet\n",
       "0  Global warming report urges governments to act...\n",
       "1  Fighting poverty and global warming in Africa ...\n",
       "2  Carbon offsets: How a Vatican forest failed to...\n",
       "3  Carbon offsets: How a Vatican forest failed to...\n",
       "4  URUGUAY: Tools Needed for Those Most Vulnerabl..."
      ]
     },
     "execution_count": 4,
     "metadata": {},
     "output_type": "execute_result"
    }
   ],
   "source": [
    "df.head()"
   ]
  },
  {
   "cell_type": "code",
   "execution_count": 5,
   "metadata": {},
   "outputs": [
    {
     "data": {
      "text/html": [
       "<div>\n",
       "<style scoped>\n",
       "    .dataframe tbody tr th:only-of-type {\n",
       "        vertical-align: middle;\n",
       "    }\n",
       "\n",
       "    .dataframe tbody tr th {\n",
       "        vertical-align: top;\n",
       "    }\n",
       "\n",
       "    .dataframe thead th {\n",
       "        text-align: right;\n",
       "    }\n",
       "</style>\n",
       "<table border=\"1\" class=\"dataframe\">\n",
       "  <thead>\n",
       "    <tr style=\"text-align: right;\">\n",
       "      <th></th>\n",
       "      <th>tweet</th>\n",
       "      <th>Char Length</th>\n",
       "    </tr>\n",
       "  </thead>\n",
       "  <tbody>\n",
       "    <tr>\n",
       "      <th>0</th>\n",
       "      <td>Global warming report urges governments to act...</td>\n",
       "      <td>118</td>\n",
       "    </tr>\n",
       "    <tr>\n",
       "      <th>1</th>\n",
       "      <td>Fighting poverty and global warming in Africa ...</td>\n",
       "      <td>52</td>\n",
       "    </tr>\n",
       "    <tr>\n",
       "      <th>2</th>\n",
       "      <td>Carbon offsets: How a Vatican forest failed to...</td>\n",
       "      <td>75</td>\n",
       "    </tr>\n",
       "    <tr>\n",
       "      <th>3</th>\n",
       "      <td>Carbon offsets: How a Vatican forest failed to...</td>\n",
       "      <td>75</td>\n",
       "    </tr>\n",
       "    <tr>\n",
       "      <th>4</th>\n",
       "      <td>URUGUAY: Tools Needed for Those Most Vulnerabl...</td>\n",
       "      <td>72</td>\n",
       "    </tr>\n",
       "  </tbody>\n",
       "</table>\n",
       "</div>"
      ],
      "text/plain": [
       "                                               tweet  Char Length\n",
       "0  Global warming report urges governments to act...          118\n",
       "1  Fighting poverty and global warming in Africa ...           52\n",
       "2  Carbon offsets: How a Vatican forest failed to...           75\n",
       "3  Carbon offsets: How a Vatican forest failed to...           75\n",
       "4  URUGUAY: Tools Needed for Those Most Vulnerabl...           72"
      ]
     },
     "execution_count": 5,
     "metadata": {},
     "output_type": "execute_result"
    }
   ],
   "source": [
    "df['Char Length'] = df['tweet'].apply(lambda x:len(x))\n",
    "df.head()"
   ]
  },
  {
   "cell_type": "code",
   "execution_count": 6,
   "metadata": {},
   "outputs": [
    {
     "data": {
      "text/plain": [
       "<matplotlib.axes._subplots.AxesSubplot at 0x25ec7a858d0>"
      ]
     },
     "execution_count": 6,
     "metadata": {},
     "output_type": "execute_result"
    },
    {
     "data": {
      "image/png": "[encoded data removed]",
      "text/plain": [
       "<Figure size 432x288 with 1 Axes>"
      ]
     },
     "metadata": {
      "needs_background": "light"
     },
     "output_type": "display_data"
    }
   ],
   "source": [
    "sns.distplot(df['Char Length'],kde=False)"
   ]
  },
  {
   "cell_type": "code",
   "execution_count": 7,
   "metadata": {},
   "outputs": [
    {
     "data": {
      "text/plain": [
       "(5541,)"
      ]
     },
     "execution_count": 7,
     "metadata": {},
     "output_type": "execute_result"
    }
   ],
   "source": [
    "df['tweet'].unique().shape"
   ]
  },
  {
   "cell_type": "code",
   "execution_count": 8,
   "metadata": {},
   "outputs": [
    {
     "data": {
      "text/plain": [
       "773"
      ]
     },
     "execution_count": 8,
     "metadata": {},
     "output_type": "execute_result"
    }
   ],
   "source": [
    "df['Is Retweet'] = df['tweet'].apply(lambda x:x[:2] == 'RT')\n",
    "df['Is Retweet'].sum()"
   ]
  },
  {
   "cell_type": "code",
   "execution_count": 9,
   "metadata": {},
   "outputs": [
    {
     "data": {
      "text/plain": [
       "(677,)"
      ]
     },
     "execution_count": 9,
     "metadata": {},
     "output_type": "execute_result"
    }
   ],
   "source": [
    "df[df['Is Retweet'] == True].tweet.unique().shape"
   ]
  },
  {
   "cell_type": "code",
   "execution_count": 10,
   "metadata": {},
   "outputs": [
    {
     "data": {
      "text/plain": [
       "<matplotlib.axes._subplots.AxesSubplot at 0x25ec7b23320>"
      ]
     },
     "execution_count": 10,
     "metadata": {},
     "output_type": "execute_result"
    },
    {
     "data": {
      "image/png": "[encoded data removed]",
      "text/plain": [
       "<Figure size 432x288 with 1 Axes>"
      ]
     },
     "metadata": {
      "needs_background": "light"
     },
     "output_type": "display_data"
    }
   ],
   "source": [
    "df['Num Copies'] = df.groupby('tweet')['Is Retweet'].transform('count')\n",
    "sns.distplot(df['Num Copies'],kde=False)"
   ]
  },
  {
   "cell_type": "code",
   "execution_count": 11,
   "metadata": {},
   "outputs": [],
   "source": [
    "def find_retweeted(tweet):\n",
    "    '''This function will extract the twitter handles of retweed people'''\n",
    "    return re.findall('(?<=RT\\s)(@[A-Za-z]+[A-Za-z0-9-_]+)', tweet)\n",
    "\n",
    "def find_mentioned(tweet):\n",
    "    '''This function will extract the twitter handles of people mentioned in the tweet'''\n",
    "    return re.findall('(?<!RT\\s)(@[A-Za-z]+[A-Za-z0-9-_]+)', tweet)  \n",
    "\n",
    "def find_hashtags(tweet):\n",
    "    '''This function will extract hashtags'''\n",
    "    return re.findall('(#[A-Za-z]+[A-Za-z0-9-_]+)', tweet) "
   ]
  },
  {
   "cell_type": "code",
   "execution_count": 12,
   "metadata": {},
   "outputs": [
    {
     "data": {
      "text/plain": [
       "['#all', '#hashtags']"
      ]
     },
     "execution_count": 12,
     "metadata": {},
     "output_type": "execute_result"
    }
   ],
   "source": [
    "# two sample tweets\n",
    "my_tweet = 'RT @our_codingclub: Can @you find #all the #hashtags?'\n",
    "my_other_tweet = 'Not a retweet. All views @my own'\n",
    "\n",
    "find_hashtags(my_tweet)"
   ]
  },
  {
   "cell_type": "code",
   "execution_count": 13,
   "metadata": {},
   "outputs": [
    {
     "data": {
      "text/html": [
       "<div>\n",
       "<style scoped>\n",
       "    .dataframe tbody tr th:only-of-type {\n",
       "        vertical-align: middle;\n",
       "    }\n",
       "\n",
       "    .dataframe tbody tr th {\n",
       "        vertical-align: top;\n",
       "    }\n",
       "\n",
       "    .dataframe thead th {\n",
       "        text-align: right;\n",
       "    }\n",
       "</style>\n",
       "<table border=\"1\" class=\"dataframe\">\n",
       "  <thead>\n",
       "    <tr style=\"text-align: right;\">\n",
       "      <th></th>\n",
       "      <th>tweet</th>\n",
       "      <th>Char Length</th>\n",
       "      <th>Is Retweet</th>\n",
       "      <th>Num Copies</th>\n",
       "      <th>Retweeted</th>\n",
       "      <th>Mentioned</th>\n",
       "      <th>Hashtags</th>\n",
       "    </tr>\n",
       "  </thead>\n",
       "  <tbody>\n",
       "    <tr>\n",
       "      <th>5</th>\n",
       "      <td>RT @sejorg: RT @JaymiHeimbuch: Ocean Saltiness...</td>\n",
       "      <td>106</td>\n",
       "      <td>True</td>\n",
       "      <td>2</td>\n",
       "      <td>[@sejorg, @JaymiHeimbuch]</td>\n",
       "      <td>[]</td>\n",
       "      <td>[]</td>\n",
       "    </tr>\n",
       "    <tr>\n",
       "      <th>23</th>\n",
       "      <td>RT @WGofNYC Leader of National Indigenous Wome...</td>\n",
       "      <td>130</td>\n",
       "      <td>True</td>\n",
       "      <td>3</td>\n",
       "      <td>[@WGofNYC]</td>\n",
       "      <td>[]</td>\n",
       "      <td>[]</td>\n",
       "    </tr>\n",
       "    <tr>\n",
       "      <th>36</th>\n",
       "      <td>RT @virgiltexas: Hey Al Gore: see these tornad...</td>\n",
       "      <td>156</td>\n",
       "      <td>True</td>\n",
       "      <td>3</td>\n",
       "      <td>[@virgiltexas]</td>\n",
       "      <td>[]</td>\n",
       "      <td>[#tornadocot, #ocra, #sgp, #gop, #ucot, #tlot,...</td>\n",
       "    </tr>\n",
       "    <tr>\n",
       "      <th>70</th>\n",
       "      <td>RT @redostoneage: NASAs changing Facts; Guess ...</td>\n",
       "      <td>121</td>\n",
       "      <td>True</td>\n",
       "      <td>2</td>\n",
       "      <td>[@redostoneage]</td>\n",
       "      <td>[]</td>\n",
       "      <td>[#global, #climate, #eco]</td>\n",
       "    </tr>\n",
       "    <tr>\n",
       "      <th>77</th>\n",
       "      <td>RT @TheBCast: The B-Cast Interview: Minnesotan...</td>\n",
       "      <td>98</td>\n",
       "      <td>True</td>\n",
       "      <td>2</td>\n",
       "      <td>[@TheBCast]</td>\n",
       "      <td>[]</td>\n",
       "      <td>[]</td>\n",
       "    </tr>\n",
       "  </tbody>\n",
       "</table>\n",
       "</div>"
      ],
      "text/plain": [
       "                                                tweet  Char Length  \\\n",
       "5   RT @sejorg: RT @JaymiHeimbuch: Ocean Saltiness...          106   \n",
       "23  RT @WGofNYC Leader of National Indigenous Wome...          130   \n",
       "36  RT @virgiltexas: Hey Al Gore: see these tornad...          156   \n",
       "70  RT @redostoneage: NASAs changing Facts; Guess ...          121   \n",
       "77  RT @TheBCast: The B-Cast Interview: Minnesotan...           98   \n",
       "\n",
       "    Is Retweet  Num Copies                  Retweeted Mentioned  \\\n",
       "5         True           2  [@sejorg, @JaymiHeimbuch]        []   \n",
       "23        True           3                 [@WGofNYC]        []   \n",
       "36        True           3             [@virgiltexas]        []   \n",
       "70        True           2            [@redostoneage]        []   \n",
       "77        True           2                [@TheBCast]        []   \n",
       "\n",
       "                                             Hashtags  \n",
       "5                                                  []  \n",
       "23                                                 []  \n",
       "36  [#tornadocot, #ocra, #sgp, #gop, #ucot, #tlot,...  \n",
       "70                          [#global, #climate, #eco]  \n",
       "77                                                 []  "
      ]
     },
     "execution_count": 13,
     "metadata": {},
     "output_type": "execute_result"
    }
   ],
   "source": [
    "df['Retweeted'] = df['tweet'].apply(find_retweeted)\n",
    "df['Mentioned'] = df['tweet'].apply(find_mentioned)\n",
    "df['Hashtags'] = df['tweet'].apply(find_hashtags)\n",
    "df[df['Is Retweet'] == 1].head()"
   ]
  },
  {
   "cell_type": "code",
   "execution_count": 14,
   "metadata": {},
   "outputs": [],
   "source": [
    "hashtags_df = pd.DataFrame(df[df['Hashtags'].apply(lambda x:x != [])]['Hashtags'])\n",
    "retweets_df = pd.DataFrame(df[df['Retweeted'].apply(lambda x:x != [])]['Retweeted'])\n",
    "mentioned_df = pd.DataFrame(df[df['Mentioned'].apply(lambda x:x != [])]['Mentioned'])"
   ]
  },
  {
   "cell_type": "code",
   "execution_count": 15,
   "metadata": {},
   "outputs": [
    {
     "data": {
      "text/html": [
       "<div>\n",
       "<style scoped>\n",
       "    .dataframe tbody tr th:only-of-type {\n",
       "        vertical-align: middle;\n",
       "    }\n",
       "\n",
       "    .dataframe tbody tr th {\n",
       "        vertical-align: top;\n",
       "    }\n",
       "\n",
       "    .dataframe thead th {\n",
       "        text-align: right;\n",
       "    }\n",
       "</style>\n",
       "<table border=\"1\" class=\"dataframe\">\n",
       "  <thead>\n",
       "    <tr style=\"text-align: right;\">\n",
       "      <th></th>\n",
       "      <th>Hashtags</th>\n",
       "    </tr>\n",
       "  </thead>\n",
       "  <tbody>\n",
       "    <tr>\n",
       "      <th>12</th>\n",
       "      <td>[#Climate, #population]</td>\n",
       "    </tr>\n",
       "    <tr>\n",
       "      <th>16</th>\n",
       "      <td>[#EarthDay]</td>\n",
       "    </tr>\n",
       "    <tr>\n",
       "      <th>26</th>\n",
       "      <td>[#ac]</td>\n",
       "    </tr>\n",
       "    <tr>\n",
       "      <th>31</th>\n",
       "      <td>[#tcot]</td>\n",
       "    </tr>\n",
       "    <tr>\n",
       "      <th>36</th>\n",
       "      <td>[#tornadocot, #ocra, #sgp, #gop, #ucot, #tlot,...</td>\n",
       "    </tr>\n",
       "  </tbody>\n",
       "</table>\n",
       "</div>"
      ],
      "text/plain": [
       "                                             Hashtags\n",
       "12                            [#Climate, #population]\n",
       "16                                        [#EarthDay]\n",
       "26                                              [#ac]\n",
       "31                                            [#tcot]\n",
       "36  [#tornadocot, #ocra, #sgp, #gop, #ucot, #tlot,..."
      ]
     },
     "execution_count": 15,
     "metadata": {},
     "output_type": "execute_result"
    }
   ],
   "source": [
    "hashtags_df.head()"
   ]
  },
  {
   "cell_type": "code",
   "execution_count": 16,
   "metadata": {},
   "outputs": [],
   "source": [
    "def collect_list(object_,column_string): \n",
    "    list_of_ = []\n",
    "    for ind, row in object_.iterrows():\n",
    "        list_of_.extend(row[column_string])\n",
    "    return pd.DataFrame({column_string: list_of_})[column_string]\n",
    "hashtag_list = collect_list(hashtags_df, 'Hashtags')\n",
    "retweeted_list = collect_list(retweets_df, 'Retweeted')\n",
    "mentioned_list = collect_list(mentioned_df, 'Mentioned')"
   ]
  },
  {
   "cell_type": "code",
   "execution_count": 17,
   "metadata": {},
   "outputs": [
    {
     "data": {
      "text/plain": [
       "#tcot             227\n",
       "#climate          202\n",
       "#p2               112\n",
       "#green             50\n",
       "#climatechange     47\n",
       "#teaparty          41\n",
       "#global            40\n",
       "#eco               40\n",
       "#SaveTerra         36\n",
       "#climategate       33\n",
       "Name: Hashtags, dtype: int64"
      ]
     },
     "execution_count": 17,
     "metadata": {},
     "output_type": "execute_result"
    }
   ],
   "source": [
    "hashtag_list.value_counts().head(10)"
   ]
  },
  {
   "cell_type": "code",
   "execution_count": 18,
   "metadata": {},
   "outputs": [
    {
     "data": {
      "text/plain": [
       "@Drudge_Report    19\n",
       "@Newsweek         18\n",
       "@redostoneage     12\n",
       "@newtgingrich     10\n",
       "@mattyglesias     10\n",
       "@Cubachi           8\n",
       "@democracy_now     8\n",
       "@mmfa              7\n",
       "@guardianeco       7\n",
       "@tlw3              7\n",
       "Name: Retweeted, dtype: int64"
      ]
     },
     "execution_count": 18,
     "metadata": {},
     "output_type": "execute_result"
    }
   ],
   "source": [
    "retweeted_list.value_counts().head(10)"
   ]
  },
  {
   "cell_type": "code",
   "execution_count": 19,
   "metadata": {},
   "outputs": [
    {
     "data": {
      "text/plain": [
       "@NewsOnGreen      37\n",
       "@change           33\n",
       "@addthis          19\n",
       "@HumanityNews     17\n",
       "@algore            9\n",
       "@TIME              9\n",
       "@guardianeco       6\n",
       "@InvasiveNotes     6\n",
       "@boliviaun         6\n",
       "@glennbeck         6\n",
       "Name: Mentioned, dtype: int64"
      ]
     },
     "execution_count": 19,
     "metadata": {},
     "output_type": "execute_result"
    }
   ],
   "source": [
    "mentioned_list.value_counts().head(10)"
   ]
  },
  {
   "cell_type": "code",
   "execution_count": 20,
   "metadata": {},
   "outputs": [],
   "source": [
    "hashtag_set = set(hashtag_list.value_counts()[hashtag_list.value_counts() > 10].index.values) "
   ]
  },
  {
   "cell_type": "code",
   "execution_count": 21,
   "metadata": {},
   "outputs": [],
   "source": [
    "hashtags_df['Popular Hashtags'] = hashtags_df['Hashtags'].apply(lambda lst:[hashtag for hashtag in lst if hashtag in hashtag_set])"
   ]
  },
  {
   "cell_type": "code",
   "execution_count": 22,
   "metadata": {},
   "outputs": [
    {
     "data": {
      "text/plain": [
       "(1129, 2)"
      ]
     },
     "execution_count": 22,
     "metadata": {},
     "output_type": "execute_result"
    }
   ],
   "source": [
    "hashtags_df[hashtags_df['Popular Hashtags'].apply(lambda x:x!=[])]\n",
    "hashtags_df.shape"
   ]
  },
  {
   "cell_type": "code",
   "execution_count": 23,
   "metadata": {},
   "outputs": [],
   "source": [
    "for hashtag in hashtag_set:\n",
    "    hashtags_df[hashtag] = hashtags_df['Popular Hashtags'].apply(lambda x:1 if hashtag in x else 0)"
   ]
  },
  {
   "cell_type": "code",
   "execution_count": 24,
   "metadata": {},
   "outputs": [],
   "source": [
    "hashtags_df.drop(['Popular Hashtags'],axis=1,inplace=True)"
   ]
  },
  {
   "cell_type": "code",
   "execution_count": 25,
   "metadata": {},
   "outputs": [
    {
     "data": {
      "text/plain": [
       "<matplotlib.axes._subplots.AxesSubplot at 0x25ec9e7beb8>"
      ]
     },
     "execution_count": 25,
     "metadata": {},
     "output_type": "execute_result"
    },
    {
     "data": {
      "image/png": "[encoded data removed]",
      "text/plain": [
       "<Figure size 864x864 with 2 Axes>"
      ]
     },
     "metadata": {
      "needs_background": "light"
     },
     "output_type": "display_data"
    }
   ],
   "source": [
    "plt.subplots(figsize=(12,12))\n",
    "sns.heatmap(hashtags_df.drop(['Hashtags'],axis=1).corr(),vmin=-1,vmax=1,cmap='RdBu')"
   ]
  },
  {
   "cell_type": "code",
   "execution_count": 26,
   "metadata": {},
   "outputs": [],
   "source": [
    "import nltk\n",
    "from nltk.tokenize import RegexpTokenizer\n",
    "from nltk.corpus import stopwords"
   ]
  },
  {
   "cell_type": "code",
   "execution_count": 27,
   "metadata": {},
   "outputs": [
    {
     "data": {
      "text/plain": [
       "\"well this is just crazy: Coal CEO Calls Mine Safety Rules 'As Silly As Global Warming' http://bit.ly/aJTn26\""
      ]
     },
     "execution_count": 27,
     "metadata": {},
     "output_type": "execute_result"
    }
   ],
   "source": [
    "#def remove_and_get_links(tweet):\n",
    "    #re.findall('http/S+',tweet)\n",
    "sample_link = df[df['tweet'].apply(lambda x:'http' in x)]['tweet'].reset_index()['tweet'].loc[111]\n",
    "sample_link"
   ]
  },
  {
   "cell_type": "code",
   "execution_count": 28,
   "metadata": {},
   "outputs": [],
   "source": [
    "def remove_links(tweet):\n",
    "    tweet = re.sub('http\\S+','',tweet)\n",
    "    tweet = re.sub('(?!http://)bit.ly/\\S+','',tweet)\n",
    "    tweet = tweet.strip('[link]')\n",
    "    return tweet\n",
    "def extract_links(tweet):\n",
    "    link1 = re.findall('http\\S+',tweet)\n",
    "    return list(set(link1.extend(re.findall('(?!http://)bit.ly\\S+',tweet))))\n",
    "def remove_users(tweet):\n",
    "    tweet = re.sub('@[A-Za-z]+[A-Za-z0-9-_]','',tweet)\n",
    "    return tweet"
   ]
  },
  {
   "cell_type": "code",
   "execution_count": 29,
   "metadata": {},
   "outputs": [],
   "source": [
    "my_stopwords = nltk.corpus.stopwords.words('english')\n",
    "word_rooter = nltk.stem.snowball.PorterStemmer(ignore_stopwords=False).stem\n",
    "my_punctuation = '!\"$%&\\'()*+,-./:;<=>?[\\\\]^_`{|}~•@'\n",
    "\n",
    "# cleaning master function\n",
    "def clean_tweet(tweet, bigrams=False):\n",
    "    tweet = remove_users(tweet)\n",
    "    tweet = remove_links(tweet)\n",
    "    tweet = tweet.lower() # lower case\n",
    "    tweet = re.sub('['+my_punctuation + ']+', ' ', tweet) # strip punctuation\n",
    "    tweet = re.sub('\\s+', ' ', tweet) #remove double spacing\n",
    "    tweet = re.sub('([0-9]+)', '', tweet) # remove numbers\n",
    "    tweet_token_list = [word for word in tweet.split(' ')\n",
    "                            if word not in my_stopwords] # remove stopwords\n",
    "\n",
    "    tweet_token_list = [word_rooter(word) if '#' not in word else word\n",
    "                        for word in tweet_token_list] # apply word rooter\n",
    "    if bigrams:\n",
    "        tweet_token_list = tweet_token_list+[tweet_token_list[i]+'_'+tweet_token_list[i+1]\n",
    "                                            for i in range(len(tweet_token_list)-1)]\n",
    "    tweet = ' '.join(tweet_token_list)\n",
    "    return tweet"
   ]
  },
  {
   "cell_type": "code",
   "execution_count": 30,
   "metadata": {},
   "outputs": [],
   "source": [
    "df['Clean Tweet'] = df['tweet'].apply(clean_tweet)"
   ]
  },
  {
   "cell_type": "code",
   "execution_count": 31,
   "metadata": {},
   "outputs": [],
   "source": [
    "from sklearn.feature_extraction.text import CountVectorizer\n",
    "\n",
    "vectorizer = CountVectorizer(max_df=0.9,min_df=0.01,token_pattern='\\w+|\\$[\\d\\.]+|\\S+')\n",
    "\n",
    "tf = vectorizer.fit_transform(df['Clean Tweet'])\n",
    "feature_names = vectorizer.get_feature_names()"
   ]
  },
  {
   "cell_type": "code",
   "execution_count": 32,
   "metadata": {},
   "outputs": [
    {
     "data": {
      "text/plain": [
       "122"
      ]
     },
     "execution_count": 32,
     "metadata": {},
     "output_type": "execute_result"
    }
   ],
   "source": [
    "len(feature_names)"
   ]
  },
  {
   "cell_type": "code",
   "execution_count": 33,
   "metadata": {},
   "outputs": [],
   "source": [
    "from sklearn.decomposition import LatentDirichletAllocation, NMF\n",
    "\n",
    "def model_topics(algorithm):\n",
    "    if algorithm == 'LDA':\n",
    "        model = LatentDirichletAllocation(n_components=10)\n",
    "    elif algorithm == 'NMF':\n",
    "        model = NMF(n_components=10)\n",
    "    model.fit(tf)\n",
    "    model.get_params()\n",
    "    topic_word_df = pd.DataFrame(model.components_,columns=feature_names)\n",
    "    sorted_topic_words = pd.DataFrame()\n",
    "    for index, row in topic_word_df.iterrows():\n",
    "        row_df = pd.DataFrame({'topic_'+str(index): row.sort_values(ascending=False).index[:5].values})\n",
    "        sorted_topic_words = pd.concat([sorted_topic_words,row_df],axis=1)\n",
    "    return model, sorted_topic_words\n",
    "    "
   ]
  },
  {
   "cell_type": "code",
   "execution_count": 34,
   "metadata": {},
   "outputs": [],
   "source": [
    "lda_model, lda_topic_words = model_topics('LDA')\n",
    "nmf_model, nmf_topic_words = model_topics('NMF')"
   ]
  },
  {
   "cell_type": "code",
   "execution_count": 35,
   "metadata": {},
   "outputs": [
    {
     "data": {
      "text/html": [
       "<div>\n",
       "<style scoped>\n",
       "    .dataframe tbody tr th:only-of-type {\n",
       "        vertical-align: middle;\n",
       "    }\n",
       "\n",
       "    .dataframe tbody tr th {\n",
       "        vertical-align: top;\n",
       "    }\n",
       "\n",
       "    .dataframe thead th {\n",
       "        text-align: right;\n",
       "    }\n",
       "</style>\n",
       "<table border=\"1\" class=\"dataframe\">\n",
       "  <thead>\n",
       "    <tr style=\"text-align: right;\">\n",
       "      <th></th>\n",
       "      <th>topic_0</th>\n",
       "      <th>topic_1</th>\n",
       "      <th>topic_2</th>\n",
       "      <th>topic_3</th>\n",
       "      <th>topic_4</th>\n",
       "      <th>topic_5</th>\n",
       "      <th>topic_6</th>\n",
       "      <th>topic_7</th>\n",
       "      <th>topic_8</th>\n",
       "      <th>topic_9</th>\n",
       "    </tr>\n",
       "  </thead>\n",
       "  <tbody>\n",
       "    <tr>\n",
       "      <th>0</th>\n",
       "      <td>global</td>\n",
       "      <td>climat</td>\n",
       "      <td>climat</td>\n",
       "      <td>global</td>\n",
       "      <td>rt</td>\n",
       "      <td>global</td>\n",
       "      <td>climat</td>\n",
       "      <td>climat</td>\n",
       "      <td>global</td>\n",
       "      <td>chang</td>\n",
       "    </tr>\n",
       "    <tr>\n",
       "      <th>1</th>\n",
       "      <td>warm</td>\n",
       "      <td>chang</td>\n",
       "      <td>chang</td>\n",
       "      <td>warm</td>\n",
       "      <td>warm</td>\n",
       "      <td>warm</td>\n",
       "      <td>chang</td>\n",
       "      <td>chang</td>\n",
       "      <td>warm</td>\n",
       "      <td>climat</td>\n",
       "    </tr>\n",
       "    <tr>\n",
       "      <th>2</th>\n",
       "      <td>caus</td>\n",
       "      <td>peopl</td>\n",
       "      <td>news</td>\n",
       "      <td>snow</td>\n",
       "      <td>global</td>\n",
       "      <td>scientist</td>\n",
       "      <td>bill</td>\n",
       "      <td>could</td>\n",
       "      <td>new</td>\n",
       "      <td>rt</td>\n",
       "    </tr>\n",
       "    <tr>\n",
       "      <th>3</th>\n",
       "      <td>dc</td>\n",
       "      <td>world</td>\n",
       "      <td>energi</td>\n",
       "      <td>gore</td>\n",
       "      <td>make</td>\n",
       "      <td>great</td>\n",
       "      <td>senat</td>\n",
       "      <td>take</td>\n",
       "      <td>obama</td>\n",
       "      <td>via</td>\n",
       "    </tr>\n",
       "    <tr>\n",
       "      <th>4</th>\n",
       "      <td>may</td>\n",
       "      <td>fight</td>\n",
       "      <td>via</td>\n",
       "      <td>al</td>\n",
       "      <td>#tcot</td>\n",
       "      <td>think</td>\n",
       "      <td>graham</td>\n",
       "      <td>un</td>\n",
       "      <td>call</td>\n",
       "      <td>#climate</td>\n",
       "    </tr>\n",
       "  </tbody>\n",
       "</table>\n",
       "</div>"
      ],
      "text/plain": [
       "  topic_0 topic_1 topic_2 topic_3 topic_4    topic_5 topic_6 topic_7 topic_8  \\\n",
       "0  global  climat  climat  global      rt     global  climat  climat  global   \n",
       "1    warm   chang   chang    warm    warm       warm   chang   chang    warm   \n",
       "2    caus   peopl    news    snow  global  scientist    bill   could     new   \n",
       "3      dc   world  energi    gore    make      great   senat    take   obama   \n",
       "4     may   fight     via      al   #tcot      think  graham      un    call   \n",
       "\n",
       "    topic_9  \n",
       "0     chang  \n",
       "1    climat  \n",
       "2        rt  \n",
       "3       via  \n",
       "4  #climate  "
      ]
     },
     "execution_count": 35,
     "metadata": {},
     "output_type": "execute_result"
    }
   ],
   "source": [
    "lda_topic_words"
   ]
  },
  {
   "cell_type": "code",
   "execution_count": 36,
   "metadata": {},
   "outputs": [
    {
     "data": {
      "text/html": [
       "<div>\n",
       "<style scoped>\n",
       "    .dataframe tbody tr th:only-of-type {\n",
       "        vertical-align: middle;\n",
       "    }\n",
       "\n",
       "    .dataframe tbody tr th {\n",
       "        vertical-align: top;\n",
       "    }\n",
       "\n",
       "    .dataframe thead th {\n",
       "        text-align: right;\n",
       "    }\n",
       "</style>\n",
       "<table border=\"1\" class=\"dataframe\">\n",
       "  <thead>\n",
       "    <tr style=\"text-align: right;\">\n",
       "      <th></th>\n",
       "      <th>topic_0</th>\n",
       "      <th>topic_1</th>\n",
       "      <th>topic_2</th>\n",
       "      <th>topic_3</th>\n",
       "      <th>topic_4</th>\n",
       "      <th>topic_5</th>\n",
       "      <th>topic_6</th>\n",
       "      <th>topic_7</th>\n",
       "      <th>topic_8</th>\n",
       "      <th>topic_9</th>\n",
       "    </tr>\n",
       "  </thead>\n",
       "  <tbody>\n",
       "    <tr>\n",
       "      <th>0</th>\n",
       "      <td>climat</td>\n",
       "      <td>global</td>\n",
       "      <td>rt</td>\n",
       "      <td>via</td>\n",
       "      <td>snow</td>\n",
       "      <td>new</td>\n",
       "      <td>bill</td>\n",
       "      <td>#climate</td>\n",
       "      <td>peopl</td>\n",
       "      <td>report</td>\n",
       "    </tr>\n",
       "    <tr>\n",
       "      <th>1</th>\n",
       "      <td>chang</td>\n",
       "      <td>warm</td>\n",
       "      <td>#p</td>\n",
       "      <td>news</td>\n",
       "      <td>gore</td>\n",
       "      <td>agenc</td>\n",
       "      <td>senat</td>\n",
       "      <td>chang</td>\n",
       "      <td>world</td>\n",
       "      <td>say</td>\n",
       "    </tr>\n",
       "    <tr>\n",
       "      <th>2</th>\n",
       "      <td>scienc</td>\n",
       "      <td>caus</td>\n",
       "      <td>blizzard</td>\n",
       "      <td>chang</td>\n",
       "      <td>dc</td>\n",
       "      <td>obama</td>\n",
       "      <td>graham</td>\n",
       "      <td>warm</td>\n",
       "      <td>earth</td>\n",
       "      <td>make</td>\n",
       "    </tr>\n",
       "    <tr>\n",
       "      <th>3</th>\n",
       "      <td>energi</td>\n",
       "      <td>#tcot</td>\n",
       "      <td>#tcot</td>\n",
       "      <td>india</td>\n",
       "      <td>al</td>\n",
       "      <td>feder</td>\n",
       "      <td>put</td>\n",
       "      <td>us</td>\n",
       "      <td>confer</td>\n",
       "      <td>wors</td>\n",
       "    </tr>\n",
       "    <tr>\n",
       "      <th>4</th>\n",
       "      <td>legisl</td>\n",
       "      <td>believ</td>\n",
       "      <td>make</td>\n",
       "      <td>com</td>\n",
       "      <td>#tcot</td>\n",
       "      <td>studi</td>\n",
       "      <td>climat</td>\n",
       "      <td>#p</td>\n",
       "      <td>right</td>\n",
       "      <td>caus</td>\n",
       "    </tr>\n",
       "  </tbody>\n",
       "</table>\n",
       "</div>"
      ],
      "text/plain": [
       "  topic_0 topic_1   topic_2 topic_3 topic_4 topic_5 topic_6   topic_7 topic_8  \\\n",
       "0  climat  global        rt     via    snow     new    bill  #climate   peopl   \n",
       "1   chang    warm        #p    news    gore   agenc   senat     chang   world   \n",
       "2  scienc    caus  blizzard   chang      dc   obama  graham      warm   earth   \n",
       "3  energi   #tcot     #tcot   india      al   feder     put        us  confer   \n",
       "4  legisl  believ      make     com   #tcot   studi  climat        #p   right   \n",
       "\n",
       "  topic_9  \n",
       "0  report  \n",
       "1     say  \n",
       "2    make  \n",
       "3    wors  \n",
       "4    caus  "
      ]
     },
     "execution_count": 36,
     "metadata": {},
     "output_type": "execute_result"
    }
   ],
   "source": [
    "nmf_topic_words"
   ]
  },
  {
   "cell_type": "code",
   "execution_count": 37,
   "metadata": {},
   "outputs": [
    {
     "data": {
      "text/plain": [
       "{'batch_size': 128,\n",
       " 'doc_topic_prior': None,\n",
       " 'evaluate_every': -1,\n",
       " 'learning_decay': 0.7,\n",
       " 'learning_method': 'batch',\n",
       " 'learning_offset': 10.0,\n",
       " 'max_doc_update_iter': 100,\n",
       " 'max_iter': 10,\n",
       " 'mean_change_tol': 0.001,\n",
       " 'n_components': 10,\n",
       " 'n_jobs': None,\n",
       " 'perp_tol': 0.1,\n",
       " 'random_state': None,\n",
       " 'topic_word_prior': None,\n",
       " 'total_samples': 1000000.0,\n",
       " 'verbose': 0}"
      ]
     },
     "execution_count": 37,
     "metadata": {},
     "output_type": "execute_result"
    }
   ],
   "source": [
    "lda_model.get_params()"
   ]
  },
  {
   "cell_type": "code",
   "execution_count": null,
   "metadata": {},
   "outputs": [],
   "source": []
  }
 ],
 "metadata": {
  "kernelspec": {
   "display_name": "Python 3",
   "language": "python",
   "name": "python3"
  },
  "language_info": {
   "codemirror_mode": {
    "name": "ipython",
    "version": 3
   },
   "file_extension": ".py",
   "mimetype": "text/x-python",
   "name": "python",
   "nbconvert_exporter": "python",
   "pygments_lexer": "ipython3",
   "version": "3.5.2"
  }
 },
 "nbformat": 4,
 "nbformat_minor": 2
}
